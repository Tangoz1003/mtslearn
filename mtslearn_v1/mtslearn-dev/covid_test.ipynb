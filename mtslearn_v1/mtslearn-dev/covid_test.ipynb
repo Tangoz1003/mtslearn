{
 "cells": [
  {
   "cell_type": "code",
   "execution_count": null,
   "metadata": {},
   "outputs": [],
   "source": [
    "import pandas as pd\n",
    "import os\n",
    "import mtslearn.feature_extraction as fe"
   ]
  },
  {
   "cell_type": "code",
   "execution_count": null,
   "metadata": {},
   "outputs": [],
   "source": [
    "# 加载Excel文件\n",
    "file_path = '/hot_data/tangoz/code/mtslearn/mtslearn-dev/375_patients_example.xlsx'  # 请替换为你的文件路径\n",
    "df = pd.read_excel(file_path)"
   ]
  },
  {
   "cell_type": "code",
   "execution_count": null,
   "metadata": {},
   "outputs": [],
   "source": [
    "# 使用向前填充的方法填充PATIENT_ID列中的NaN值\n",
    "df['PATIENT_ID'].fillna(method='ffill', inplace=True)\n",
    "\n",
    "# 打印前40行数据\n",
    "# print(df.head(40))\n",
    "\n",
    "# 确保数据按时间顺序排序\n",
    "df.sort_values(by=['PATIENT_ID', 'RE_DATE'], inplace=True)\n",
    "df.to_csv('../test_data/data/covid19_data/train/375prep.csv')\n",
    "\n",
    "\n",
    "fe = fe.FeModEvaluator(df, 'PATIENT_ID', 'RE_DATE',  'outcome', ['eGFR', 'creatinine'],['mean','max'],include_duration=True)\n",
    "fe.run(model_type='xgboost', fill=True, fill_method='mean', test_size=0.3, balance_data= True,plot_importance=True)\n",
    "#fe.run(model_type='logit', fill=True, fill_method='mean', cross_val=True,plot_importance=True)\n",
    "\n",
    "# Example calls to describe_data\n",
    "fe.describe_data(plot_type='boxplot', value_col='eGFR')\n",
    "#fe.describe_data(plot_type='violinplot', value_col='eGFR')\n",
    "fe.describe_data(plot_type='correlation_matrix', feature1='eGFR', feature2='creatinine')\n"
   ]
  }
 ],
 "metadata": {
  "language_info": {
   "name": "python"
  }
 },
 "nbformat": 4,
 "nbformat_minor": 2
}
